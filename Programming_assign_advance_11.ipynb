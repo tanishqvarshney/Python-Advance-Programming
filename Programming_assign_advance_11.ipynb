{
 "cells": [
  {
   "cell_type": "markdown",
   "id": "4cfd9082",
   "metadata": {},
   "source": [
    "# ANS 1"
   ]
  },
  {
   "cell_type": "code",
   "execution_count": 2,
   "id": "589dc853",
   "metadata": {},
   "outputs": [
    {
     "name": "stdout",
     "output_type": "stream",
     "text": [
      "filter_primes([7, 9, 3, 9, 10, 11, 27]) ➞ [7, 3, 11]\n",
      "filter_primes([10007, 1009, 1007, 27, 147, 77, 1001, 70]) ➞ [10007, 1009]\n",
      "filter_primes([1009, 10, 10, 10, 3, 33, 9, 4, 1, 61, 63, 69, 1087, 1091, 1093, 1097]) ➞ [1009, 3, 61, 1087, 1091, 1093, 1097]\n"
     ]
    }
   ],
   "source": [
    "def filter_primes(in_list):\n",
    "    out_list = []\n",
    "    for ele in in_list:\n",
    "        if ele in [2,3]:\n",
    "            out_list.append(ele)\n",
    "        elif ((ele+1)%6 == 0) or ((ele-1)%6 == 0) and ele != 1:\n",
    "            out_list.append(ele)\n",
    "    temp = out_list.copy()\n",
    "    for ele in temp:\n",
    "        for num in range(2,ele):\n",
    "            if ele%num == 0:\n",
    "                out_list.remove(ele)\n",
    "                break        \n",
    "    print(f'filter_primes({in_list}) ➞ {out_list}')\n",
    "    \n",
    "filter_primes([7, 9, 3, 9, 10, 11, 27])\n",
    "filter_primes([10007, 1009, 1007, 27, 147, 77, 1001, 70])\n",
    "filter_primes([1009, 10, 10, 10, 3, 33, 9, 4, 1, 61, 63, 69, 1087, 1091, 1093, 1097])"
   ]
  },
  {
   "cell_type": "markdown",
   "id": "12527031",
   "metadata": {},
   "source": [
    "# ANS 2"
   ]
  },
  {
   "cell_type": "code",
   "execution_count": 4,
   "id": "04a6de8a",
   "metadata": {},
   "outputs": [
    {
     "name": "stdout",
     "output_type": "stream",
     "text": [
      "pop([0, 0, 0, 0, 4, 0, 0, 0, 0]) ➞ [0, 1, 2, 3, 4, 3, 2, 1, 0]\n",
      "pop([0, 0, 0, 3, 0, 0, 0]) ➞ [0, 1, 2, 3, 2, 1, 0]\n",
      "pop([0, 0, 2, 0, 0]) ➞ [0, 1, 2, 1, 0]\n",
      "pop([0]) ➞ [0]\n"
     ]
    }
   ],
   "source": [
    "def pop(in_list):\n",
    "    pop_number = sorted(in_list,reverse=True)[0]\n",
    "    output = []\n",
    "    if pop_number == 0:\n",
    "        output.append(0)\n",
    "    else:\n",
    "        output.extend([x for x in range((len(in_list)-1)//2)])\n",
    "        output.append(pop_number)\n",
    "        output.extend([((len(in_list)-2)//2)-x for x in range((len(in_list)-1)//2)])\n",
    "    print(f'pop({in_list}) ➞ {output}')\n",
    "    \n",
    "pop([0, 0, 0, 0, 4, 0, 0, 0, 0])\n",
    "pop([0, 0, 0, 3, 0, 0, 0])\n",
    "pop([0, 0, 2, 0, 0])\n",
    "pop([0])"
   ]
  },
  {
   "cell_type": "markdown",
   "id": "7f14598d",
   "metadata": {},
   "source": [
    "# ANS 3"
   ]
  },
  {
   "cell_type": "code",
   "execution_count": 6,
   "id": "6e647516",
   "metadata": {},
   "outputs": [
    {
     "name": "stdout",
     "output_type": "stream",
     "text": [
      "loves_me(3) ➞ Loves me, Loves me not, LOVES ME\n",
      "loves_me(6) ➞ Loves me, Loves me not, Loves me, Loves me not, Loves me, LOVES ME NOT\n",
      "loves_me(1) ➞ LOVES ME\n"
     ]
    }
   ],
   "source": [
    "def loves_me(in_num):\n",
    "    out_string = []\n",
    "    for ele in range(in_num):\n",
    "        if ele%2 ==0:\n",
    "            out_string.append('Loves me')\n",
    "        else:\n",
    "            out_string.append('Loves me not')\n",
    "    out_string[-1] = out_string[-1].upper()\n",
    "    print(f'loves_me({in_num}) ➞ {\", \".join(out_string)}')\n",
    "    \n",
    "loves_me(3)\n",
    "loves_me(6)\n",
    "loves_me(1)"
   ]
  },
  {
   "cell_type": "markdown",
   "id": "4591f025",
   "metadata": {},
   "source": [
    "# ANS 4"
   ]
  },
  {
   "cell_type": "code",
   "execution_count": 8,
   "id": "f6dcf1df",
   "metadata": {},
   "outputs": [
    {
     "name": "stdout",
     "output_type": "stream",
     "text": [
      "sort_by_letter(['932c', '832u32', '2344b']) ➞ ['2344b', '932c', '832u32']\n",
      "sort_by_letter(['99a', '78b', 'c2345', '11d']) ➞ ['99a', '78b', 'c2345', '11d']\n",
      "sort_by_letter(['572z', '5y5', '304q2']) ➞ ['304q2', '5y5', '572z']\n",
      "sort_by_letter([]) ➞ []\n"
     ]
    }
   ],
   "source": [
    "def sort_by_letter(in_list):\n",
    "    temp_list = []\n",
    "    output = []\n",
    "    for ele in in_list:\n",
    "        for char in ele:\n",
    "            if char.isalpha():\n",
    "                temp_list.append(char)\n",
    "    temp_list.sort()\n",
    "    for char in temp_list:\n",
    "        for ele in in_list:\n",
    "            if char in ele:\n",
    "                output.append(ele)\n",
    "    \n",
    "    print(f'sort_by_letter({in_list}) ➞ {output}')\n",
    "                \n",
    "sort_by_letter([\"932c\", \"832u32\", \"2344b\"])\n",
    "sort_by_letter([\"99a\", \"78b\", \"c2345\", \"11d\"])\n",
    "sort_by_letter([\"572z\", \"5y5\", \"304q2\"])\n",
    "sort_by_letter([])"
   ]
  },
  {
   "cell_type": "markdown",
   "id": "995784bf",
   "metadata": {},
   "source": [
    "# ANS 5"
   ]
  },
  {
   "cell_type": "code",
   "execution_count": 10,
   "id": "6aff288a",
   "metadata": {},
   "outputs": [
    {
     "name": "stdout",
     "output_type": "stream",
     "text": [
      "cup_swapping(['AB', 'CA', 'AB']) ➞ C\n",
      "cup_swapping(['AB', 'CA', 'AB']) ➞ B\n",
      "cup_swapping(['AC', 'BC', 'AB']) ➞ A\n"
     ]
    }
   ],
   "source": [
    "def cup_swapping(swap_list,intitial_ball_pos):\n",
    "    ball_position = intitial_ball_pos\n",
    "    for ele in swap_list:\n",
    "        if ball_position in ele:\n",
    "            ball_position = ele.replace(ball_position,'')\n",
    "    print(f'cup_swapping({swap_list}) ➞ {ball_position}')\n",
    "            \n",
    "cup_swapping([\"AB\", \"CA\", \"AB\"],'B')\n",
    "cup_swapping([\"AB\", \"CA\", \"AB\"],'C')\n",
    "cup_swapping([\"AC\", \"BC\", \"AB\"],'A')"
   ]
  }
 ],
 "metadata": {
  "kernelspec": {
   "display_name": "Python 3 (ipykernel)",
   "language": "python",
   "name": "python3"
  },
  "language_info": {
   "codemirror_mode": {
    "name": "ipython",
    "version": 3
   },
   "file_extension": ".py",
   "mimetype": "text/x-python",
   "name": "python",
   "nbconvert_exporter": "python",
   "pygments_lexer": "ipython3",
   "version": "3.9.12"
  }
 },
 "nbformat": 4,
 "nbformat_minor": 5
}
