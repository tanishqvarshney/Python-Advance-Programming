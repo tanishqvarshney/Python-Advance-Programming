{
 "cells": [
  {
   "cell_type": "markdown",
   "id": "a5eff862",
   "metadata": {},
   "source": [
    "# ANS 1"
   ]
  },
  {
   "cell_type": "code",
   "execution_count": 2,
   "id": "77f47e63",
   "metadata": {},
   "outputs": [
    {
     "name": "stdout",
     "output_type": "stream",
     "text": [
      "meme_sum('26', '39') ➞ 515\n",
      "meme_sum('122', '081') ➞ 1103\n",
      "meme_sum('01222', '30277') ➞ 31499\n"
     ]
    }
   ],
   "source": [
    "def meme_sum(a,b):\n",
    "    a,b = str(a),str(b)\n",
    "    output = ''\n",
    "    while len(a) != len(b):\n",
    "        if len(a) < len(b):\n",
    "            a ='0'+a\n",
    "        else:\n",
    "            b='0'+b\n",
    "    for ele in range(len(a)):\n",
    "        output += str(int(a[ele])+int(b[ele]))\n",
    "    print(f'meme_sum{a,b} ➞ {output}')\n",
    "       \n",
    "meme_sum(26, 39)\n",
    "meme_sum(122, 81)\n",
    "meme_sum(1222, 30277) "
   ]
  },
  {
   "cell_type": "markdown",
   "id": "1ac1ee4a",
   "metadata": {},
   "source": [
    "# ANS 2"
   ]
  },
  {
   "cell_type": "code",
   "execution_count": 4,
   "id": "70d1b3da",
   "metadata": {},
   "outputs": [
    {
     "name": "stdout",
     "output_type": "stream",
     "text": [
      "next_prine(12) ➞ 13\n",
      "next_prine(24) ➞ 29\n",
      "next_prine(11) ➞ 11\n"
     ]
    }
   ],
   "source": [
    "def next_prime(in_num):\n",
    "    in_num_clone = in_num\n",
    "    while True:\n",
    "        if (in_num-1)%6 == 0 or (in_num+1)%6 ==0 :\n",
    "            temp = in_num\n",
    "            for ele in range(3,in_num+1):\n",
    "                if in_num%ele == 0 and ele != in_num:\n",
    "                    in_num = in_num+1\n",
    "                    break\n",
    "            if temp == in_num:\n",
    "                break\n",
    "        else:\n",
    "            in_num += 1\n",
    "    \n",
    "    print(f'next_prine({in_num_clone}) ➞ {in_num}')\n",
    "        \n",
    "next_prime(12)\n",
    "next_prime(24)\n",
    "next_prime(11)"
   ]
  },
  {
   "cell_type": "markdown",
   "id": "1a5f55c6",
   "metadata": {},
   "source": [
    "# ANS 3"
   ]
  },
  {
   "cell_type": "code",
   "execution_count": 6,
   "id": "a2163f11",
   "metadata": {},
   "outputs": [
    {
     "name": "stdout",
     "output_type": "stream",
     "text": [
      "ave_spd(18, 20, 60) ➞ 30\n",
      "ave_spd(30, 10, 30) ➞ 15\n",
      "ave_spd(30, 8, 24) ➞ 12\n"
     ]
    }
   ],
   "source": [
    "def ave_spd(up_time,up_speed,down_speed):\n",
    "    distance = up_speed*(up_time/60)\n",
    "    down_time = distance/down_speed\n",
    "    output = (2*distance)/((up_time/60)+down_time)\n",
    "    print(f'ave_spd{up_time,up_speed,down_speed} ➞ {int(output)}')\n",
    "    \n",
    "ave_spd(18, 20, 60)\n",
    "ave_spd(30, 10, 30)\n",
    "ave_spd(30, 8, 24)"
   ]
  },
  {
   "cell_type": "markdown",
   "id": "ee7a6b6b",
   "metadata": {},
   "source": [
    "# ANS 4"
   ]
  },
  {
   "cell_type": "code",
   "execution_count": 8,
   "id": "5885cd10",
   "metadata": {},
   "outputs": [
    {
     "name": "stdout",
     "output_type": "stream",
     "text": [
      "kempner(6) ➞ 3\n",
      "kempner(10) ➞ 5\n",
      "kempner(5) ➞ 5\n",
      "kempner(2) ➞ 2\n"
     ]
    }
   ],
   "source": [
    "def kempner(in_num):\n",
    "    def factorial(in_num):\n",
    "        if in_num == 1:\n",
    "            return 1\n",
    "        else:\n",
    "            return in_num * factorial(in_num-1)\n",
    "    for ele in range(1,in_num+1):\n",
    "        if factorial(ele)%in_num == 0:\n",
    "            output = ele\n",
    "            break\n",
    "    print(f'kempner({in_num}) ➞ {output}')\n",
    "            \n",
    "kempner(6)\n",
    "kempner(10)\n",
    "kempner(5)\n",
    "kempner(2)"
   ]
  },
  {
   "cell_type": "markdown",
   "id": "083182f2",
   "metadata": {},
   "source": [
    "# ANS 5"
   ]
  },
  {
   "cell_type": "code",
   "execution_count": 10,
   "id": "af83aa0c",
   "metadata": {},
   "outputs": [
    {
     "name": "stdout",
     "output_type": "stream",
     "text": [
      "boxes([2, 1, 2, 5, 4, 3, 6, 1, 1, 9, 3, 2]) ➞ [[2, 1, 2, 5], [4, 3], [6, 1, 1], [9], [3, 2]] ➞ 5\n",
      "boxes([5, 5, 5, 5, 5, 5, 2, 3, 4, 5, 6]) ➞ [[5, 5], [5, 5], [5, 5], [2, 3, 4], [5, 6]] ➞ 5\n"
     ]
    }
   ],
   "source": [
    "def boxes(in_list):\n",
    "    in_list_clone = in_list.copy()\n",
    "    output = []\n",
    "    temp_box = []\n",
    "    while True:\n",
    "        if len(in_list) != 0:\n",
    "            if sum(temp_box) <= 10:\n",
    "                temp_box.append(in_list.pop(0))\n",
    "            else:\n",
    "                in_list.insert(0,temp_box.pop())\n",
    "                output.append(temp_box)\n",
    "                temp_box = []\n",
    "        else:\n",
    "            output.append(temp_box)\n",
    "            temp_box = []\n",
    "            break\n",
    "    print(f'boxes({in_list_clone}) ➞ {output} ➞ {len(output)}')    \n",
    "    \n",
    "boxes([2, 1, 2, 5, 4, 3, 6, 1, 1, 9, 3, 2])\n",
    "boxes([5, 5, 5, 5, 5, 5, 2, 3, 4, 5, 6])"
   ]
  }
 ],
 "metadata": {
  "kernelspec": {
   "display_name": "Python 3 (ipykernel)",
   "language": "python",
   "name": "python3"
  },
  "language_info": {
   "codemirror_mode": {
    "name": "ipython",
    "version": 3
   },
   "file_extension": ".py",
   "mimetype": "text/x-python",
   "name": "python",
   "nbconvert_exporter": "python",
   "pygments_lexer": "ipython3",
   "version": "3.9.12"
  }
 },
 "nbformat": 4,
 "nbformat_minor": 5
}
