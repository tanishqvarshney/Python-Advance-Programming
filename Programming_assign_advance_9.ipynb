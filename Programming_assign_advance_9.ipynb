{
 "cells": [
  {
   "cell_type": "markdown",
   "id": "0a249919",
   "metadata": {},
   "source": [
    "# ANS 1"
   ]
  },
  {
   "cell_type": "code",
   "execution_count": 2,
   "id": "53ce951f",
   "metadata": {},
   "outputs": [
    {
     "name": "stdout",
     "output_type": "stream",
     "text": [
      "playback_duration('00:30:00', 2) ➞ 00:15:00\n",
      "playback_duration('01:20:00', 1.5) ➞ 00:53:20\n",
      "playback_duration('51:20:09', 0.5) ➞ 102:40:18\n"
     ]
    }
   ],
   "source": [
    "def playback_duration(in_time,playback_speed):\n",
    "    time = in_time.split(\":\")\n",
    "    time_in_secs = (3600*int(time[0])+60*int(time[1])+int(time[2]))/playback_speed\n",
    "    f_time_in_hours = str(int(time_in_secs/3600)) if time_in_secs > 3600 else '00'\n",
    "    f_time_in_mins = str(int((time_in_secs%3600)/60)) if (time_in_secs)%3600 > 60 else '00'\n",
    "    f_time_in_secs = str(int((time_in_secs%3600)%60)) if ((time_in_secs)%3600)%60 > 0 else '00'   \n",
    "    output = f'{f_time_in_hours}:{f_time_in_mins}:{f_time_in_secs}'\n",
    "    print(f'playback_duration{in_time, playback_speed} ➞ {output}')\n",
    "    \n",
    "playback_duration(\"00:30:00\", 2)\n",
    "playback_duration(\"01:20:00\", 1.5)\n",
    "playback_duration(\"51:20:09\", 0.5) "
   ]
  },
  {
   "cell_type": "markdown",
   "id": "77a8f841",
   "metadata": {},
   "source": [
    "# ANS 2"
   ]
  },
  {
   "cell_type": "code",
   "execution_count": 4,
   "id": "343fc7b5",
   "metadata": {},
   "outputs": [
    {
     "name": "stdout",
     "output_type": "stream",
     "text": [
      "pile_of_cubes(1071225) ➞ 45\n",
      "pile_of_cubes(4183059834009) ➞ 2022\n",
      "pile_of_cubes(16) ➞ None\n"
     ]
    }
   ],
   "source": [
    "def pile_of_cubes(in_volume):\n",
    "    out_volume = 0\n",
    "    output = 0\n",
    "    for cube in range(1,in_volume):\n",
    "        out_volume += pow(cube,3)\n",
    "        if in_volume <= out_volume:\n",
    "            output = cube if in_volume == out_volume else None\n",
    "            break\n",
    "    print(f'pile_of_cubes({in_volume}) ➞ {output}')\n",
    "\n",
    "pile_of_cubes(1071225)\n",
    "pile_of_cubes(4183059834009)\n",
    "pile_of_cubes(16)"
   ]
  },
  {
   "cell_type": "markdown",
   "id": "a4846287",
   "metadata": {},
   "source": [
    "# ANS 3"
   ]
  },
  {
   "cell_type": "code",
   "execution_count": 6,
   "id": "8f8ddc18",
   "metadata": {},
   "outputs": [
    {
     "name": "stdout",
     "output_type": "stream",
     "text": [
      "find_fulcrum([3, 1, 5, 2, 4, 6, -1]) ➞ 2\n",
      "find_fulcrum([1, 2, 4, 9, 10, -10, -9, 3]) ➞ 4\n",
      "find_fulcrum([9, 1, 9]) ➞ 1\n",
      "find_fulcrum([7, -1, 0, -1, 1, 1, 2, 3]) ➞ 0\n",
      "find_fulcrum([8, 8, 8, 8]) ➞ -1\n"
     ]
    }
   ],
   "source": [
    "def find_fulcrum(in_list):\n",
    "    output = -1\n",
    "    for ele in in_list:\n",
    "        index_of_ele =in_list.index(ele)\n",
    "        if sum(in_list[:index_of_ele]) == sum(in_list[index_of_ele+1:]):\n",
    "            output = ele\n",
    "            break\n",
    "    print(f'find_fulcrum({in_list}) ➞ {output}')\n",
    "        \n",
    "find_fulcrum([3, 1, 5, 2, 4, 6, -1])\n",
    "find_fulcrum([1, 2, 4, 9, 10, -10, -9, 3])\n",
    "find_fulcrum([9, 1, 9])\n",
    "find_fulcrum([7, -1, 0, -1, 1, 1, 2, 3])\n",
    "find_fulcrum([8, 8, 8, 8])"
   ]
  },
  {
   "cell_type": "markdown",
   "id": "66279541",
   "metadata": {},
   "source": [
    "# ANS 4"
   ]
  },
  {
   "cell_type": "code",
   "execution_count": 8,
   "id": "3d2a04ad",
   "metadata": {},
   "outputs": [
    {
     "name": "stdout",
     "output_type": "stream",
     "text": [
      "sock_merchant([10, 20, 20, 10, 10, 30, 50, 10, 20]) ➞ 3\n",
      "sock_merchant([50, 20, 30, 90, 30, 20, 50, 20, 90]) ➞ 4\n",
      "sock_merchant([]) ➞ 0\n"
     ]
    }
   ],
   "source": [
    "def sock_merchant(in_list):\n",
    "    paired_socks = {}\n",
    "    output = 0\n",
    "    for ele in in_list:\n",
    "        if ele in paired_socks:\n",
    "            paired_socks[ele]+=1\n",
    "        else:\n",
    "            paired_socks[ele]=1\n",
    "    for pair in paired_socks.values():\n",
    "        output += pair//2\n",
    "    print(f'sock_merchant({in_list}) ➞ {output}')\n",
    "    \n",
    "\n",
    "sock_merchant([10, 20, 20, 10, 10, 30, 50, 10, 20])\n",
    "sock_merchant([50, 20, 30, 90, 30, 20, 50, 20, 90])\n",
    "sock_merchant([])"
   ]
  },
  {
   "cell_type": "markdown",
   "id": "94f50090",
   "metadata": {},
   "source": [
    "# ANS 5"
   ]
  },
  {
   "cell_type": "code",
   "execution_count": 10,
   "id": "b8762299",
   "metadata": {},
   "outputs": [
    {
     "name": "stdout",
     "output_type": "stream",
     "text": [
      "negative_sum(\"-12 13%14&-11\") ➞ -23\n",
      "negative_sum(\"22 13%14&-11-22 13 12\") ➞ -33\n"
     ]
    }
   ],
   "source": [
    "import re\n",
    "def negative_sum(in_string):\n",
    "    pattern = '-\\d+'\n",
    "    output = sum([int(ele) for ele in re.findall(pattern,in_string)])\n",
    "    print(f'negative_sum(\"{in_string}\") ➞ {output}')\n",
    "    \n",
    "negative_sum(\"-12 13%14&-11\")\n",
    "negative_sum(\"22 13%14&-11-22 13 12\")"
   ]
  }
 ],
 "metadata": {
  "kernelspec": {
   "display_name": "Python 3 (ipykernel)",
   "language": "python",
   "name": "python3"
  },
  "language_info": {
   "codemirror_mode": {
    "name": "ipython",
    "version": 3
   },
   "file_extension": ".py",
   "mimetype": "text/x-python",
   "name": "python",
   "nbconvert_exporter": "python",
   "pygments_lexer": "ipython3",
   "version": "3.9.12"
  }
 },
 "nbformat": 4,
 "nbformat_minor": 5
}
