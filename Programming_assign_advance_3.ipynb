{
 "cells": [
  {
   "cell_type": "markdown",
   "id": "cdd0205a",
   "metadata": {},
   "source": [
    "# ANS 1"
   ]
  },
  {
   "cell_type": "code",
   "execution_count": 1,
   "id": "d30992e1",
   "metadata": {},
   "outputs": [
    {
     "name": "stdout",
     "output_type": "stream",
     "text": [
      "arithmetic_operation(12 + 12) ➞ 24\n",
      "arithmetic_operation(12 - 12) ➞ 0\n",
      "arithmetic_operation(12 * 12) ➞ 144\n",
      "arithmetic_operation(12 // 0) ➞ -1\n"
     ]
    }
   ],
   "source": [
    "import operator\n",
    "\n",
    "ops = {'+':operator.add,'-':operator.sub,'*':operator.mul,'//':operator.floordiv}\n",
    "\n",
    "def arithmetic_operation(in_string):\n",
    "    in_list = in_string.split(\" \")\n",
    "    output = ops[in_list[1]](int(in_list[0]),int(in_list[2])) if int(in_list[2]) != 0 else -1\n",
    "    print(f'arithmetic_operation({in_list[0]} {in_list[1]} {in_list[2]}) ➞ {output}')\n",
    "    \n",
    "arithmetic_operation(\"12 + 12\")\n",
    "arithmetic_operation(\"12 - 12\")\n",
    "arithmetic_operation(\"12 * 12\")\n",
    "arithmetic_operation(\"12 // 0\")"
   ]
  },
  {
   "cell_type": "markdown",
   "id": "1d3ac2b2",
   "metadata": {},
   "source": [
    "# ANS 2"
   ]
  },
  {
   "cell_type": "code",
   "execution_count": 5,
   "id": "3c72fddd",
   "metadata": {},
   "outputs": [
    {
     "name": "stdout",
     "output_type": "stream",
     "text": [
      "perimeter([[15, 7], [5, 22], [11, 1]]) ➞ 47.08\n",
      "perimeter([[0, 0], [0, 1], [1, 0]]) ➞ 3.41\n",
      "perimeter([[-10, -10], [10, 10], [-10, 10]]) ➞ 68.28\n"
     ]
    }
   ],
   "source": [
    "import math\n",
    "\n",
    "def distance(a,b):\n",
    "    return math.sqrt(pow((b[1]-a[1]),2)+pow((b[0]-a[0]),2))\n",
    "\n",
    "def perimeter(in_array):\n",
    "    perimeter = []\n",
    "    for ele in range(len(in_array)):\n",
    "        if ele == len(in_array)-1:\n",
    "            perimeter.append(distance(in_array[ele],in_array[0]))\n",
    "        else:\n",
    "            perimeter.append(distance(in_array[ele],in_array[ele+1]))\n",
    "    print(f'perimeter({in_array}) ➞ {sum(perimeter):.2f}')\n",
    "    \n",
    "perimeter([[15,7],[5,22],[11,1]])\n",
    "perimeter([[0,0],[0,1],[1,0]])\n",
    "perimeter([[-10,-10],[10,10],[-10,10]])"
   ]
  },
  {
   "cell_type": "markdown",
   "id": "ec1b0c15",
   "metadata": {},
   "source": [
    "# ANS 3"
   ]
  },
  {
   "cell_type": "code",
   "execution_count": 6,
   "id": "d35f51a5",
   "metadata": {},
   "outputs": [
    {
     "name": "stdout",
     "output_type": "stream",
     "text": [
      "tallest_skyscraper([[0, 0, 0, 0], [0, 1, 0, 0], [0, 1, 1, 0], [1, 1, 1, 1]]) ➞ 3\n",
      "tallest_skyscraper([[0, 1, 0, 0], [0, 1, 0, 0], [0, 1, 1, 0], [1, 1, 1, 1]]) ➞ 4\n",
      "tallest_skyscraper([[0, 0, 0, 0], [0, 0, 0, 0], [1, 1, 1, 0], [1, 1, 1, 1]]) ➞ 2\n"
     ]
    }
   ],
   "source": [
    "def tallest_skyscraper(in_list):\n",
    "    out_list = []\n",
    "    for num in range(len(in_list)):\n",
    "        count = 0\n",
    "        for ele in range(len(in_list[num])):\n",
    "            count += in_list[ele][num]\n",
    "        out_list.append(count)\n",
    "    print(f'tallest_skyscraper({in_list}) ➞ {max(out_list)}')\n",
    "        \n",
    "tallest_skyscraper([[0, 0, 0, 0],[0, 1, 0, 0],[0, 1, 1, 0],[1, 1, 1, 1]])\n",
    "tallest_skyscraper([[0, 1, 0, 0],[0, 1, 0, 0],[0, 1, 1, 0],[1, 1, 1, 1]])\n",
    "tallest_skyscraper([[0, 0, 0, 0],[0, 0, 0, 0],[1, 1, 1, 0],[1, 1, 1, 1]])"
   ]
  },
  {
   "cell_type": "markdown",
   "id": "95cbffb2",
   "metadata": {},
   "source": [
    "# ANS 4"
   ]
  },
  {
   "cell_type": "code",
   "execution_count": 9,
   "id": "ef8afc9b",
   "metadata": {},
   "outputs": [
    {
     "name": "stdout",
     "output_type": "stream",
     "text": [
      "bonus(15) ➞ 0\n",
      "bonus(44) ➞ 4800\n",
      "bonus(37) ➞ 1625\n",
      "bonus(50) ➞ 8200\n",
      "bonus(60) ➞ 14200\n"
     ]
    }
   ],
   "source": [
    "def bonus(int_num):\n",
    "    if int_num > 48:\n",
    "        output = 0+(8*325)+(8*550)+((int_num-48)*600)\n",
    "    elif int_num < 48 and int_num >= 41:\n",
    "        output = 0+(8*325)+((int_num-41+1)*550)\n",
    "    elif int_num >33 and int_num <= 40:\n",
    "        output = 0+((int_num-33+1)*325)\n",
    "    else:\n",
    "        output = 0\n",
    "    print(f'bonus({int_num}) ➞ {output}')\n",
    "        \n",
    "bonus(15)\n",
    "bonus(44)\n",
    "bonus(37)\n",
    "bonus(50)\n",
    "bonus(60)"
   ]
  },
  {
   "cell_type": "markdown",
   "id": "f93c4130",
   "metadata": {},
   "source": [
    "# ANS 5 "
   ]
  },
  {
   "cell_type": "code",
   "execution_count": 12,
   "id": "733baaf7",
   "metadata": {},
   "outputs": [
    {
     "name": "stdout",
     "output_type": "stream",
     "text": [
      "is_disarium(75) ➞ False\n",
      "is_disarium(135) ➞ True\n",
      "is_disarium(544) ➞ False\n",
      "is_disarium(518) ➞ True\n",
      "is_disarium(466) ➞ False\n",
      "is_disarium(8) ➞ True\n"
     ]
    }
   ],
   "source": [
    "def is_disarium(in_num):\n",
    "    sum = 0\n",
    "    output = False\n",
    "    for ele in range(len(str(in_num))):\n",
    "        sum += int(str(in_num)[ele])**(ele+1)\n",
    "    if in_num == sum:\n",
    "        output=True\n",
    "    print(f'is_disarium({in_num}) ➞ {output}')\n",
    "    \n",
    "is_disarium(75)\n",
    "is_disarium(135)\n",
    "is_disarium(544)\n",
    "is_disarium(518)\n",
    "is_disarium(466)\n",
    "is_disarium(8)"
   ]
  }
 ],
 "metadata": {
  "kernelspec": {
   "display_name": "Python 3 (ipykernel)",
   "language": "python",
   "name": "python3"
  },
  "language_info": {
   "codemirror_mode": {
    "name": "ipython",
    "version": 3
   },
   "file_extension": ".py",
   "mimetype": "text/x-python",
   "name": "python",
   "nbconvert_exporter": "python",
   "pygments_lexer": "ipython3",
   "version": "3.9.12"
  }
 },
 "nbformat": 4,
 "nbformat_minor": 5
}
