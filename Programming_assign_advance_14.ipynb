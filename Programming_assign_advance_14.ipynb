{
 "cells": [
  {
   "cell_type": "markdown",
   "id": "9fd0e891",
   "metadata": {},
   "source": [
    "# ANS 1"
   ]
  },
  {
   "cell_type": "code",
   "execution_count": 2,
   "id": "2b53168f",
   "metadata": {},
   "outputs": [
    {
     "name": "stdout",
     "output_type": "stream",
     "text": [
      "show_the_love([4, 1, 4]) ➞ [3.0, 3.0, 3.0]\n",
      "show_the_love([16, 10, 8]) ➞ [12.0, 7.5, 14.5]\n",
      "show_the_love([2, 100]) ➞ [27.0, 75.0]\n"
     ]
    }
   ],
   "source": [
    "def show_the_love(in_list):\n",
    "    out_list = in_list.copy()\n",
    "    sum_num = 0\n",
    "    for ele in range(len(out_list)):\n",
    "        if out_list[ele] is not min(out_list):\n",
    "            sum_num += out_list[ele]/4\n",
    "            out_list[ele] =  out_list[ele]-(out_list[ele]/4)\n",
    "    out_list[out_list.index(min(out_list))] = sum_num +min(out_list)\n",
    "    print(f'show_the_love({in_list}) ➞ {out_list}')\n",
    "            \n",
    "show_the_love([4, 1, 4])\n",
    "show_the_love([16, 10, 8])\n",
    "show_the_love([2, 100])"
   ]
  },
  {
   "cell_type": "markdown",
   "id": "bde4c22f",
   "metadata": {},
   "source": [
    "# ANS 2"
   ]
  },
  {
   "cell_type": "code",
   "execution_count": 4,
   "id": "83d508a2",
   "metadata": {},
   "outputs": [
    {
     "name": "stdout",
     "output_type": "stream",
     "text": [
      "letters('sharp', 'soap') ➞ ['aps', 'hr', 'o']\n",
      "letters('board', 'bored') ➞ ['bdor', 'a', 'e']\n",
      "letters('happiness', 'envelope') ➞ ['enp', 'ahis', 'lov']\n",
      "letters('kerfuffle', 'fluffy') ➞ ['flu', 'ekr', 'y']\n",
      "letters('match', 'ham') ➞ ['ahm', 'ct', '']\n"
     ]
    }
   ],
   "source": [
    "def letters(s_one,s_two):\n",
    "    s_one_set = set(s_one)\n",
    "    s_two_set = set(s_two)\n",
    "    out_list = []\n",
    "    out_list.append(''.join(sorted(s_one_set.intersection(s_two_set))))\n",
    "    out_list.append(''.join(sorted(s_one_set.difference(s_two_set))))\n",
    "    out_list.append(''.join(sorted(s_two_set.difference(s_one_set)))) \n",
    "    print(f'letters{s_one,s_two} ➞ {out_list}')\n",
    "    \n",
    "letters(\"sharp\", \"soap\")\n",
    "letters(\"board\", \"bored\")\n",
    "letters(\"happiness\", \"envelope\")\n",
    "letters(\"kerfuffle\", \"fluffy\")\n",
    "letters(\"match\", \"ham\")"
   ]
  },
  {
   "cell_type": "markdown",
   "id": "6f78e7b3",
   "metadata": {},
   "source": [
    "# ANS 3"
   ]
  },
  {
   "cell_type": "code",
   "execution_count": 6,
   "id": "a29a656a",
   "metadata": {},
   "outputs": [
    {
     "name": "stdout",
     "output_type": "stream",
     "text": [
      "pairs([1, 2, 3, 4, 5, 6, 7]) ➞ [[1, 7], [2, 6], [3, 5], [4, 4]]\n",
      "pairs([1, 2, 3, 4, 5, 6]) ➞ [[1, 6], [2, 5], [3, 4]]\n",
      "pairs([5, 9, 8, 1, 2]) ➞ [[5, 2], [9, 1], [8, 8]]\n",
      "pairs([]) ➞ []\n"
     ]
    }
   ],
   "source": [
    "def pairs(in_list):\n",
    "    in_list_clone = in_list.copy()\n",
    "    output = []\n",
    "    while True:\n",
    "        if len(in_list) > 0:\n",
    "            if len(in_list) == 1:\n",
    "                output.append([in_list[0],in_list.pop(0)])\n",
    "            else:\n",
    "                output.append([in_list.pop(0),in_list.pop(-1)])\n",
    "        else:\n",
    "            break\n",
    "    print(f'pairs({in_list_clone}) ➞ {output}')\n",
    "            \n",
    "pairs([1, 2, 3, 4, 5, 6, 7])\n",
    "pairs([1, 2, 3, 4, 5, 6])\n",
    "pairs([5, 9, 8, 1, 2])\n",
    "pairs([])"
   ]
  },
  {
   "cell_type": "markdown",
   "id": "13e9daeb",
   "metadata": {},
   "source": [
    "# ANS 4"
   ]
  },
  {
   "cell_type": "code",
   "execution_count": 8,
   "id": "51f861b8",
   "metadata": {},
   "outputs": [
    {
     "name": "stdout",
     "output_type": "stream",
     "text": [
      "add_str_nums('4', '5') ➞ 9\n",
      "add_str_nums('abcdefg', '3') ➞ -1\n",
      "add_str_nums('1', '0') ➞ 1\n",
      "add_str_nums('1874682736267235927359283579235789257', '32652983572985729') ➞ 1874682736267235927391936562808774986\n"
     ]
    }
   ],
   "source": [
    "def add_str_nums(in_one,in_two):\n",
    "    in_one = in_one if len(in_one) > 0 else \"0\"\n",
    "    in_two = in_two if len(in_two) > 0 else \"0\"\n",
    "    if in_one.isdigit() == False or in_two.isdigit() == False:\n",
    "        output = -1\n",
    "    else: \n",
    "        output = int(in_one)+int(in_two)\n",
    "    print(f'add_str_nums{in_one,in_two} ➞ {str(output)}')\n",
    "        \n",
    "add_str_nums(\"4\", \"5\")\n",
    "add_str_nums(\"abcdefg\", \"3\")\n",
    "add_str_nums(\"1\", \"\")\n",
    "add_str_nums(\"1874682736267235927359283579235789257\", \"32652983572985729\")"
   ]
  },
  {
   "cell_type": "markdown",
   "id": "e200e799",
   "metadata": {},
   "source": [
    "# ANS 5"
   ]
  },
  {
   "cell_type": "code",
   "execution_count": 10,
   "id": "d8e2dda7",
   "metadata": {},
   "outputs": [
    {
     "name": "stdout",
     "output_type": "stream",
     "text": [
      "unmix(123456) ➞ 214365\n",
      "unmix(hTsii  s aimex dpus rtni.g) ➞ This is a mixed up string.\n",
      "unmix(badce) ➞ abcde\n"
     ]
    }
   ],
   "source": [
    "def unmix(in_string):\n",
    "    output = ''\n",
    "    for ele in range(0,len(in_string)-1,2):\n",
    "        output += in_string[ele+1]+in_string[ele]\n",
    "        if (len(in_string)%2 != 0 and ele == len(in_string)//2 ):\n",
    "            output += in_string[-1]       \n",
    "    print(f'unmix({in_string}) ➞ {output}')\n",
    "\n",
    "unmix(\"123456\")\n",
    "unmix(\"hTsii  s aimex dpus rtni.g\")\n",
    "unmix(\"badce\")"
   ]
  }
 ],
 "metadata": {
  "kernelspec": {
   "display_name": "Python 3 (ipykernel)",
   "language": "python",
   "name": "python3"
  },
  "language_info": {
   "codemirror_mode": {
    "name": "ipython",
    "version": 3
   },
   "file_extension": ".py",
   "mimetype": "text/x-python",
   "name": "python",
   "nbconvert_exporter": "python",
   "pygments_lexer": "ipython3",
   "version": "3.9.12"
  }
 },
 "nbformat": 4,
 "nbformat_minor": 5
}
