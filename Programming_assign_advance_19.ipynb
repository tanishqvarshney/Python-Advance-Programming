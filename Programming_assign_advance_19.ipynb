{
 "cells": [
  {
   "cell_type": "markdown",
   "id": "c84b1adf",
   "metadata": {},
   "source": [
    "# ANS 1"
   ]
  },
  {
   "cell_type": "code",
   "execution_count": 2,
   "id": "55608392",
   "metadata": {},
   "outputs": [
    {
     "name": "stdout",
     "output_type": "stream",
     "text": [
      "checker_board(2, 7, 6) ➞ [[7, 6], [6, 7]]\n",
      "checker_board(3, 'A', 'B') ➞ [['A', 'B', 'A'], ['B', 'A', 'B'], ['A', 'B', 'A']]\n",
      "checker_board(4, 'c', 'd') ➞ [['c', 'd', 'c', 'd'], ['d', 'c', 'd', 'c'], ['c', 'd', 'c', 'd'], ['d', 'c', 'd', 'c']]\n",
      "checker_board(4, 'c', 'c') ➞ Invalid\n"
     ]
    }
   ],
   "source": [
    "def checker_board(grid_size,in_one,in_two):\n",
    "    if in_one != in_two:\n",
    "        input = [in_one,in_two]\n",
    "        output = []\n",
    "        for ele_1 in range(grid_size):\n",
    "            output.append([])\n",
    "            for ele_2 in range(grid_size):\n",
    "                output[ele_1].append(input[(ele_1+ele_2)%2])\n",
    "    else:\n",
    "        output = 'Invalid'\n",
    "    print(f'checker_board{grid_size,in_one,in_two} ➞ {output}')\n",
    "    \n",
    "checker_board(2, 7, 6)\n",
    "checker_board(3, \"A\", \"B\")\n",
    "checker_board(4, \"c\", \"d\")\n",
    "checker_board(4, \"c\", \"c\") "
   ]
  },
  {
   "cell_type": "markdown",
   "id": "430d655e",
   "metadata": {},
   "source": [
    "# ANS 2"
   ]
  },
  {
   "cell_type": "code",
   "execution_count": 3,
   "id": "d92e49db",
   "metadata": {},
   "outputs": [
    {
     "name": "stdout",
     "output_type": "stream",
     "text": [
      "almost_palindrome(abcdcbg) ➞ True\n",
      "almost_palindrome(abccia) ➞ True\n",
      "almost_palindrome(abcdaaa) ➞ False\n",
      "almost_palindrome(1234312) ➞ False\n"
     ]
    }
   ],
   "source": [
    "def almost_palindrome(in_string):\n",
    "    in_string_rev = in_string[::-1]\n",
    "    count = 0\n",
    "    for ele in range(len(in_string)):\n",
    "        if in_string[ele] != in_string_rev[ele]:\n",
    "            count +=1\n",
    "    output = True if count == 2 else False\n",
    "    print(f'almost_palindrome({in_string}) ➞ {output}')\n",
    "    \n",
    "almost_palindrome(\"abcdcbg\")\n",
    "almost_palindrome(\"abccia\")\n",
    "almost_palindrome(\"abcdaaa\")\n",
    "almost_palindrome(\"1234312\")"
   ]
  },
  {
   "cell_type": "markdown",
   "id": "5b56207b",
   "metadata": {},
   "source": [
    "# ANS 3"
   ]
  },
  {
   "cell_type": "code",
   "execution_count": 5,
   "id": "a73ec2b9",
   "metadata": {},
   "outputs": [
    {
     "name": "stdout",
     "output_type": "stream",
     "text": [
      "prime_numbers(10) ➞ 4\n",
      "prime_numbers(20) ➞ 8\n",
      "prime_numbers(30) ➞ 10\n"
     ]
    }
   ],
   "source": [
    "def prime_numbers(in_num):\n",
    "    out_num = 0\n",
    "    out_list = [2,3]\n",
    "    for ele in range(1,in_num+1):\n",
    "        if ele <= 3 and ele > 0:\n",
    "            out_num = 2 if ele==3 else 1 if ele ==2 else 0\n",
    "        elif ele > 3 and (((ele-1)%6 == 0) or ((ele+1)%6 == 0)):\n",
    "            out_num +=1\n",
    "            out_list.append(ele)    \n",
    "    for top in out_list:\n",
    "        for bottom in out_list:\n",
    "            if top != bottom:\n",
    "                if top%bottom == 0:\n",
    "                    out_num -= 1\n",
    "    print(f'prime_numbers({in_num}) ➞ {out_num}')\n",
    "        \n",
    "prime_numbers(10)     \n",
    "prime_numbers(20)\n",
    "prime_numbers(30)"
   ]
  },
  {
   "cell_type": "markdown",
   "id": "e60fdf10",
   "metadata": {},
   "source": [
    "# ANS 4"
   ]
  },
  {
   "cell_type": "code",
   "execution_count": 7,
   "id": "7b7882fd",
   "metadata": {},
   "outputs": [
    {
     "name": "stdout",
     "output_type": "stream",
     "text": [
      "after_n_days(['Thursday', 'Monday'], 4) ➞ ['Monday', 'Friday']\n",
      "after_n_days(['Sunday', 'Sunday', 'Sunday'], 1) ➞ ['Monday', 'Monday', 'Monday']\n",
      "after_n_days(['Monday', 'Tuesday', 'Friday'], 1) ➞ ['Tuesday', 'Wednesday', 'Saturday']\n"
     ]
    }
   ],
   "source": [
    "def after_n_days(in_list,in_num):\n",
    "    week_dict = {0:'Sunday',1:'Monday',2:'Tuesday',3:'Wednesday',4:'Thursday',5:'Friday',6:'Saturday'}\n",
    "    week_days_no = list(week_dict.keys())\n",
    "    week_days_name = list(week_dict.values())\n",
    "    output = []\n",
    "    for ele in in_list:\n",
    "        output.append(week_dict[(week_days_name.index(ele)+in_num)%7])\n",
    "    print(f'after_n_days{in_list,in_num} ➞ {output}')\n",
    "    \n",
    "after_n_days([\"Thursday\", \"Monday\"], 4)\n",
    "after_n_days([\"Sunday\", \"Sunday\", \"Sunday\"], 1)\n",
    "after_n_days([\"Monday\", \"Tuesday\", \"Friday\"], 1)"
   ]
  },
  {
   "cell_type": "markdown",
   "id": "b81865d9",
   "metadata": {},
   "source": [
    "# ANS 5"
   ]
  },
  {
   "cell_type": "code",
   "execution_count": 9,
   "id": "70982270",
   "metadata": {},
   "outputs": [
    {
     "name": "stdout",
     "output_type": "stream",
     "text": [
      "is_correct_aliases(['Beth T.'], ['Brandishing Mimosa'])➞False\n",
      "is_correct_aliases(['Adrian M.', 'Harriet S.', 'Mandy T.'], ['Amazing Artichoke', 'Hopeful Hedgehog', 'Marvelous Mouse'])➞True\n",
      "is_correct_aliases(['Rachel F.', 'Pam G.', 'Fred Z.', 'Nancy K.'], ['Reassuring Rat', 'Peaceful Panda', 'Fantastic Frog', 'Notable Nickel'])➞True\n"
     ]
    }
   ],
   "source": [
    "def is_correct_aliases(in_list_one, in_list_two):\n",
    "    output = False\n",
    "    if len(in_list_one) == len(in_list_two):\n",
    "        for ele in range(len(in_list_one)):\n",
    "            if in_list_one[ele].split(\" \")[0][0] == in_list_two[ele].split(\" \")[0][0] == in_list_two[ele].split(\" \")[1][0]:\n",
    "                output = True\n",
    "            else:\n",
    "                output = False\n",
    "                break\n",
    "    print(f'is_correct_aliases{in_list_one,in_list_two}➞{output}')\n",
    "\n",
    "is_correct_aliases([\"Beth T.\"],[\"Brandishing Mimosa\"])\n",
    "is_correct_aliases([\"Adrian M.\",\"Harriet S.\",\"Mandy T.\"], [\"Amazing Artichoke\", \"Hopeful Hedgehog\", \"Marvelous Mouse\"])\n",
    "is_correct_aliases([\"Rachel F.\",\"Pam G.\",\"Fred Z.\",\"Nancy K.\"], [\"Reassuring Rat\", \"Peaceful Panda\", \"Fantastic Frog\", \"Notable Nickel\"])"
   ]
  }
 ],
 "metadata": {
  "kernelspec": {
   "display_name": "Python 3 (ipykernel)",
   "language": "python",
   "name": "python3"
  },
  "language_info": {
   "codemirror_mode": {
    "name": "ipython",
    "version": 3
   },
   "file_extension": ".py",
   "mimetype": "text/x-python",
   "name": "python",
   "nbconvert_exporter": "python",
   "pygments_lexer": "ipython3",
   "version": "3.9.12"
  }
 },
 "nbformat": 4,
 "nbformat_minor": 5
}
