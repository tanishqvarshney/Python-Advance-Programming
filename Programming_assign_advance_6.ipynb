{
 "cells": [
  {
   "cell_type": "markdown",
   "id": "d419af1f",
   "metadata": {},
   "source": [
    "# ANS 1"
   ]
  },
  {
   "cell_type": "code",
   "execution_count": 1,
   "id": "5976a83a",
   "metadata": {},
   "outputs": [
    {
     "name": "stdout",
     "output_type": "stream",
     "text": [
      "find_the_difference('abcd', 'abcde') ➞ e\n",
      "find_the_difference('', 'y') ➞ y\n",
      "find_the_difference('ae', 'aea') ➞ a\n"
     ]
    }
   ],
   "source": [
    "def find_the_difference(in_one,in_two):\n",
    "    in_two_temp = list(in_two)\n",
    "    for ele in in_one:\n",
    "        if ele in in_two_temp:\n",
    "            in_two_temp.pop(in_two_temp.index(ele))\n",
    "    output = ','.join(in_two_temp)\n",
    "    print(f'find_the_difference{in_one,in_two} ➞ {output}')\n",
    "\n",
    "find_the_difference(\"abcd\", \"abcde\")\n",
    "find_the_difference(\"\", \"y\")\n",
    "find_the_difference(\"ae\", \"aea\")"
   ]
  },
  {
   "cell_type": "markdown",
   "id": "f8367074",
   "metadata": {},
   "source": [
    "# ANS 2"
   ]
  },
  {
   "cell_type": "code",
   "execution_count": 2,
   "id": "15c95544",
   "metadata": {},
   "outputs": [
    {
     "name": "stdout",
     "output_type": "stream",
     "text": [
      "count_datatypes(1, 45, 'Hi', False)  ➞  [2, 1, 1, 0, 0, 0]\n",
      "count_datatypes([10, 20], ('t', 'Ok'), 2, 3, 1)  ➞  [3, 0, 0, 1, 1, 0]\n",
      "count_datatypes('Hello', 'Bye', True, True, False, {'1': 'One', '2': 'Two'}, [1, 3], {'Brayan': 18}, 25, 23)  ➞  [2, 2, 3, 1, 0, 2]\n",
      "count_datatypes(4, 21, ('ES', 'EN'), ('a', 'b'), False, [1, 2, 3], [4, 5, 6])  ➞  [2, 0, 1, 2, 2, 0]\n"
     ]
    }
   ],
   "source": [
    "from collections import OrderedDict\n",
    "def count_datatypes(*args):\n",
    "    output = OrderedDict({'int':0,'str':0,'bool':0,'list':0,'tuple':0,'dict':0})\n",
    "    for ele in args:\n",
    "        output[type(ele).__name__] += 1\n",
    "    print(f'count_datatypes{args}  ➞  {list(output.values())}')\n",
    "    \n",
    "count_datatypes(1, 45, \"Hi\", False)   \n",
    "count_datatypes([10, 20], (\"t\", \"Ok\"), 2, 3, 1)\n",
    "count_datatypes(\"Hello\", \"Bye\", True, True, False, {\"1\": \"One\", \"2\": \"Two\"}, [1, 3], {\"Brayan\": 18}, 25, 23)\n",
    "count_datatypes(4, 21, (\"ES\", \"EN\"), (\"a\", \"b\"), False, [1, 2, 3], [4, 5, 6])"
   ]
  },
  {
   "cell_type": "markdown",
   "id": "54fc051a",
   "metadata": {},
   "source": [
    "# ANS 3"
   ]
  },
  {
   "cell_type": "code",
   "execution_count": 3,
   "id": "d978fec3",
   "metadata": {},
   "outputs": [
    {
     "name": "stdout",
     "output_type": "stream",
     "text": [
      "fib_str_one(3, ['j', 'h']) ➞ j, h, hj\n",
      "fib_str_one(5, ['e', 'a']) ➞ e, a, ae, aea, aeaae\n",
      "fib_str_one(6, ['n', 'k']) ➞ n, k, kn, knk, knkkn, knkknknk\n",
      "\n",
      "fib_str_two(3, ['j', 'h']) ➞ j, h, hj\n",
      "fib_str_two(5, ['e', 'a']) ➞ e, a, ae, eae, aeeae\n",
      "fib_str_two(6, ['n', 'k']) ➞ n, k, kn, nkn, knnkn, nknknnkn\n"
     ]
    }
   ],
   "source": [
    "def fib_str_one(in_num,in_list):\n",
    "    out_list = in_list.copy()\n",
    "    if in_num > 2:\n",
    "        for ele in range(2,in_num):\n",
    "            out_list.append(out_list[-1]+out_list[-2])\n",
    "    print(f'fib_str_one{in_num, in_list} ➞ {\", \".join(out_list)}')\n",
    "\n",
    "def fib_str_two(in_num,in_list):\n",
    "    back_one, back_two = in_list[-1],in_list[-2]\n",
    "    output=\", \".join(in_list)\n",
    "    if in_num > 2:\n",
    "        for ele in range(2,in_num):\n",
    "            temp = back_one+back_two\n",
    "            output += \", \"+temp\n",
    "            back_one = back_two\n",
    "            back_two = temp\n",
    "    print(f'fib_str_two{in_num, in_list} ➞ {output}')\n",
    "    \n",
    "fib_str_one(3, [\"j\", \"h\"]) \n",
    "fib_str_one(5, [\"e\", \"a\"])\n",
    "fib_str_one(6, [\"n\", \"k\"])\n",
    "print()\n",
    "fib_str_two(3, [\"j\", \"h\"]) \n",
    "fib_str_two(5, [\"e\", \"a\"])\n",
    "fib_str_two(6, [\"n\", \"k\"])"
   ]
  },
  {
   "cell_type": "markdown",
   "id": "c6a73474",
   "metadata": {},
   "source": [
    "# ANS 4"
   ]
  },
  {
   "cell_type": "code",
   "execution_count": 4,
   "id": "c3d9f605",
   "metadata": {},
   "outputs": [
    {
     "name": "stdout",
     "output_type": "stream",
     "text": [
      "ones_threes_nines(10) ➞ \"nines:1, threes:0, ones:1\"\n",
      "ones_threes_nines(15) ➞ \"nines:1, threes:2, ones:0\"\n",
      "ones_threes_nines(22) ➞ \"nines:2, threes:1, ones:1\"\n"
     ]
    }
   ],
   "source": [
    "def ones_threes_nines(in_num):\n",
    "    in_num_clone = in_num\n",
    "    answer = {'nines':0,'threes':0,'ones':0}\n",
    "    if in_num > 0 and in_num < 26:\n",
    "        while in_num != 0:\n",
    "            if in_num >= 9:\n",
    "                in_num -= 9\n",
    "                answer['nines'] += 1\n",
    "            elif in_num >= 3:\n",
    "                in_num -= 3\n",
    "                answer['threes'] += 1\n",
    "            elif in_num >= 1:\n",
    "                in_num -=1\n",
    "                answer['ones'] +=1\n",
    "    print(f\"ones_threes_nines({in_num_clone}) ➞ \\\"nines:{answer['nines']}, threes:{answer['threes']}, ones:{answer['ones']}\\\"\")\n",
    "    \n",
    "ones_threes_nines(10) \n",
    "ones_threes_nines(15)\n",
    "ones_threes_nines(22)"
   ]
  },
  {
   "cell_type": "markdown",
   "id": "2dea3a19",
   "metadata": {},
   "source": [
    "# ANS 5"
   ]
  },
  {
   "cell_type": "code",
   "execution_count": 5,
   "id": "9e89036e",
   "metadata": {},
   "outputs": [
    {
     "name": "stdout",
     "output_type": "stream",
     "text": [
      "fib_one(6) ➞ 8\n",
      "fib_one(1) ➞ 1\n",
      "fib_one(2) ➞ 1\n",
      "\n",
      "fib_two(6) ➞ 8\n",
      "fib_two(1) ➞ 1\n",
      "fib_two(2) ➞ 1\n"
     ]
    }
   ],
   "source": [
    "def fib_one(in_num):\n",
    "    if in_num < 1:\n",
    "        print(\"Minimum two digits are required to generate a fibonacci sequence\")\n",
    "    else:\n",
    "        output = [0,1]\n",
    "        for ele in range(2,in_num+1):\n",
    "            output.append(output[-1]+output[-2])\n",
    "        print(f'fib_one({in_num}) ➞ {output[-1]}')\n",
    "\n",
    "def fib_two(in_num):\n",
    "    back_one,back_two = 1,0\n",
    "    for ele in range(2,in_num+1):\n",
    "        temp = back_one+back_two\n",
    "        back_two = back_one\n",
    "        back_one = temp\n",
    "    print(f'fib_two({in_num}) ➞ {back_one}')\n",
    "\n",
    "fib_one(6)\n",
    "fib_one(1)\n",
    "fib_one(2)\n",
    "print()\n",
    "fib_two(6)\n",
    "fib_two(1)\n",
    "fib_two(2)"
   ]
  }
 ],
 "metadata": {
  "kernelspec": {
   "display_name": "Python 3 (ipykernel)",
   "language": "python",
   "name": "python3"
  },
  "language_info": {
   "codemirror_mode": {
    "name": "ipython",
    "version": 3
   },
   "file_extension": ".py",
   "mimetype": "text/x-python",
   "name": "python",
   "nbconvert_exporter": "python",
   "pygments_lexer": "ipython3",
   "version": "3.9.12"
  }
 },
 "nbformat": 4,
 "nbformat_minor": 5
}
